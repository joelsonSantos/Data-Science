{
 "cells": [
  {
   "cell_type": "code",
   "execution_count": null,
   "metadata": {},
   "outputs": [],
   "source": [
    "# importando libs essenciais\n",
    "import pandas as pd\n",
    "import seaborn as sns\n",
    "import matplotlib.pyplot as plt\n",
    "from sklearn.cluster import KMeans"
   ]
  },
  {
   "cell_type": "code",
   "execution_count": null,
   "metadata": {},
   "outputs": [],
   "source": [
    "# carregando os dados em um dataframe pandas\n",
    "dataset = pd.read_csv(\"dataset.csv\", sep=\",\")\n",
    "dataset.head(10)"
   ]
  },
  {
   "cell_type": "code",
   "execution_count": null,
   "metadata": {},
   "outputs": [],
   "source": [
    "# preprocessamento dos dados categóricos (categoria_rubrica)\n",
    "X = pd.get_dummies(dataset, columns=[\"categoria_rubrica\"])\n",
    "X.head(10)"
   ]
  },
  {
   "cell_type": "code",
   "execution_count": null,
   "metadata": {},
   "outputs": [],
   "source": [
    "# agrupando os dados preprocessados\n",
    "model = KMeans(n_clusters=3)\n",
    "model.fit(X)"
   ]
  },
  {
   "cell_type": "code",
   "execution_count": null,
   "metadata": {},
   "outputs": [],
   "source": [
    "# visualizando os labels\n",
    "# model.labels_"
   ]
  },
  {
   "cell_type": "code",
   "execution_count": null,
   "metadata": {},
   "outputs": [],
   "source": [
    "# criando uma coluna com os labels no conjunto de dados original\n",
    "dataset[\"labels\"] = model.labels_"
   ]
  },
  {
   "cell_type": "code",
   "execution_count": null,
   "metadata": {},
   "outputs": [],
   "source": [
    "# plot atributos numéricos (scatterplot) em seus respectivos grupos\n",
    "sns.pairplot(data=dataset, hue=\"labels\", height=4, palette=\"pastel\")"
   ]
  },
  {
   "cell_type": "code",
   "execution_count": null,
   "metadata": {},
   "outputs": [],
   "source": [
    "# Analisando o atributo categórico usando um plot de count por label.\n",
    "sns.catplot(y=\"categoria_rubrica\", hue=\"labels\", kind=\"count\",\n",
    "            palette=\"pastel\", edgecolor=\".6\", height=8,\n",
    "            data=dataset)"
   ]
  },
  {
   "cell_type": "code",
   "execution_count": null,
   "metadata": {},
   "outputs": [],
   "source": [
    "# Método do Joelho/Cotovelo - Avaliação de diferentes agrupamentos (seleção do valor de k)\n",
    "ssd = []\n",
    "for i in range(1, 11):\n",
    "    kmeans = KMeans(n_clusters=i, max_iter = 300, n_init = 10)\n",
    "    kmeans.fit(X)\n",
    "    ssd.append(kmeans.inertia_)\n",
    "plt.figure(figsize=(8, 5))\n",
    "plt.plot(range(1, 11), ssd)\n",
    "plt.title('Metódo do Joelho/Cotovelo')\n",
    "plt.xlabel('Número de Clusters')\n",
    "plt.ylabel('SSD')\n",
    "plt.grid()\n",
    "plt.show()"
   ]
  },
  {
   "cell_type": "code",
   "execution_count": null,
   "metadata": {},
   "outputs": [],
   "source": [
    "# Exercício de casa :)\n",
    "## Utilize a padronização z-score (StandardScaler) nos atributos avaliacao_1 e idade, construa um novo\n",
    "## dataset com esses novos campos, e repita o agrupamento de dados usando o KMeans."
   ]
  }
 ],
 "metadata": {
  "interpreter": {
   "hash": "916dbcbb3f70747c44a77c7bcd40155683ae19c65e1c03b4aa3499c5328201f1"
  },
  "kernelspec": {
   "display_name": "Python 3.8.10 64-bit",
   "language": "python",
   "name": "python3"
  },
  "language_info": {
   "codemirror_mode": {
    "name": "ipython",
    "version": 3
   },
   "file_extension": ".py",
   "mimetype": "text/x-python",
   "name": "python",
   "nbconvert_exporter": "python",
   "pygments_lexer": "ipython3",
   "version": "3.8.10"
  },
  "orig_nbformat": 4
 },
 "nbformat": 4,
 "nbformat_minor": 2
}
