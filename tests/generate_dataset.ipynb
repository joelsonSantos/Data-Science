{
 "cells": [
  {
   "cell_type": "code",
   "execution_count": 1354,
   "metadata": {},
   "outputs": [],
   "source": [
    "import pandas as pd\n",
    "import time, random\n",
    "import numpy as np\n",
    "from sklearn.datasets import make_blobs\n",
    "from sklearn.preprocessing import StandardScaler\n",
    "import matplotlib.pyplot as plt\n",
    "import sys"
   ]
  },
  {
   "cell_type": "code",
   "execution_count": 1355,
   "metadata": {},
   "outputs": [],
   "source": [
    "n_samples=300\n",
    "n_components=3\n",
    "k=3"
   ]
  },
  {
   "cell_type": "code",
   "execution_count": 1356,
   "metadata": {},
   "outputs": [],
   "source": [
    "X, y_true = make_blobs(\n",
    "    n_samples=n_samples, centers=n_components, n_features=3, cluster_std=1.0, random_state=0\n",
    ")\n",
    "X = X[:, ::-1]"
   ]
  },
  {
   "cell_type": "code",
   "execution_count": 1357,
   "metadata": {},
   "outputs": [],
   "source": [
    "def min_max(column, min, max):\n",
    "    X_std = (column - np.min(column)) / (np.max(column) - np.min(column))\n",
    "    return X_std * (max - min) + min"
   ]
  },
  {
   "cell_type": "code",
   "execution_count": 1358,
   "metadata": {},
   "outputs": [],
   "source": [
    "dataset = pd.DataFrame(data=X, columns=[\"avaliacao_1\", \"avaliacao_2\", \"idade\"])\n",
    "dataset['avaliacao_1'] = min_max(dataset['avaliacao_1'], min=0, max=10)\n",
    "dataset['avaliacao_2'] = min_max(dataset['avaliacao_2'], min=0, max=10)\n",
    "dataset['idade'] = [int(x) for x in min_max(dataset['idade'], min=18, max=60)]\n",
    "dataset.to_csv(\"dataset.csv\", sep=\",\", index=False)"
   ]
  },
  {
   "cell_type": "code",
   "execution_count": 1359,
   "metadata": {},
   "outputs": [
    {
     "data": {
      "text/plain": [
       "6"
      ]
     },
     "execution_count": 1359,
     "metadata": {},
     "output_type": "execute_result"
    }
   ],
   "source": [
    "# caculate euclidean distance between two vectors\n",
    "def calculate_distance(arr1, arr2):\n",
    "    return np.linalg.norm(np.asarray(arr1) - np.asarray(arr2), ord=None)\n",
    "\n",
    "def kmeans(dataset, k, iteration):\n",
    "    row_dataset = dataset.shape[0]\n",
    "    clusters = [0] * row_dataset\n",
    "    # choosing initial seeds\n",
    "    centroids = pd.DataFrame(data=np.random.random_sample((k, dataset.shape[1])), columns=sorted(dataset.columns))\n",
    "    # id_samples = np.random.choice(row_dataset, k, replace=False)\n",
    "    # centroids = dataset.loc[id_samples] # * random.uniform(1.0, 9.0)\n",
    "    # centroids.reset_index(inplace=True)\n",
    "    # centroids.drop(columns=[\"index\"], inplace=True)\n",
    "    cumulative_centroids = centroids.copy()\n",
    "    old_sum = [0] * k\n",
    "    new_sum = [-1] * k\n",
    "    count_members = np.array([0] * k)\n",
    "    count = 0\n",
    "    # kmeans iteration\n",
    "    iterations_centroids = []\n",
    "    list_clusters = []\n",
    "    # iterations_centroids.append(pd.DataFrame(data=st.inverse_transform(centroids.copy()), columns=centroids.columns))\n",
    "    # iterations_centroids.append(centroids.copy())\n",
    "    while count < iteration and old_sum != new_sum:\n",
    "        new_sum = old_sum\n",
    "        old_sum = [0] * k\n",
    "        for j in range(0, row_dataset):\n",
    "           min_distance = sys.float_info.max\n",
    "           cluster_id = 0\n",
    "           for i in range(0, k): \n",
    "               distance = calculate_distance(dataset.loc[j], centroids.loc[i])\n",
    "               if min_distance > distance:\n",
    "                   min_distance = distance\n",
    "                   cluster_id = i\n",
    "           old_sum[cluster_id] = old_sum[cluster_id] + min_distance\n",
    "           clusters[j] = cluster_id\n",
    "           cumulative_centroids.loc[cluster_id] = cumulative_centroids.loc[cluster_id] + dataset.loc[j]\n",
    "           count_members[cluster_id] =  count_members[cluster_id] + 1 \n",
    "        iterations_centroids.append(centroids.copy())\n",
    "        list_clusters.append(clusters)\n",
    "        # updating cetroids\n",
    "        for i in range(0, k):\n",
    "           if count_members[i] != 0:\n",
    "               centroids.loc[i] = cumulative_centroids.loc[i] / count_members[i]  \n",
    "           else:\n",
    "               # selecting new seed\n",
    "               # centroids.loc[i] = dataset.loc[np.random.choice(row_dataset, 1, replace=False)]\n",
    "               print(\"cai aqui\")\n",
    "               pass\n",
    "        # iterations_centroids.append(pd.DataFrame(data=st.inverse_transform(centroids.copy()), columns=centroids.columns)) \n",
    "        count_members = [0] * k  \n",
    "        clusters = [0] * row_dataset\n",
    "        cumulative_centroids = cumulative_centroids * 0.0\n",
    "        count = count + 1\n",
    "        # return cluster labels and final centroids\n",
    "    return [clusters, centroids, iterations_centroids, len(iterations_centroids), list_clusters]\n",
    "\n",
    "# normalize dataset\n",
    "st = StandardScaler()\n",
    "st.fit(dataset)\n",
    "dataset = pd.DataFrame(data=st.transform(dataset), columns=dataset.columns)\n",
    "model = kmeans(dataset=dataset[['avaliacao_1', 'avaliacao_2']], k=k, iteration=1000)\n",
    "iterations = model[2]\n",
    "model[3]\n"
   ]
  },
  {
   "cell_type": "code",
   "execution_count": 1360,
   "metadata": {},
   "outputs": [
    {
     "name": "stdout",
     "output_type": "stream",
     "text": [
      "6\n",
      "6\n"
     ]
    }
   ],
   "source": [
    "clusters = model[4]\n",
    "print(model[3])\n",
    "print(len(clusters))"
   ]
  },
  {
   "cell_type": "code",
   "execution_count": 1361,
   "metadata": {},
   "outputs": [],
   "source": [
    "x = 'avaliacao_1'\n",
    "y = 'avaliacao_2'"
   ]
  },
  {
   "cell_type": "code",
   "execution_count": 1362,
   "metadata": {},
   "outputs": [
    {
     "data": {
      "text/plain": [
       "<Figure size 720x720 with 0 Axes>"
      ]
     },
     "metadata": {},
     "output_type": "display_data"
    }
   ],
   "source": [
    "plt.figure(figsize=(10, 10))\n",
    "plt.scatter(x=x, s=300, y=y, edgecolors='black', c='#B0C4DE', data=dataset)\n",
    "plt.xlabel(\"Idade dos alunos\", fontsize=18)\n",
    "plt.title(\"Afinidade em Programação I\", fontsize=24)\n",
    "plt.ylabel(\"Score de Afinidade - Programação I\", fontsize=18)\n",
    "plt.savefig(f\"init.png\")\n",
    "plt.figure().clear()\n",
    "plt.close()\n",
    "plt.cla()\n",
    "plt.clf()"
   ]
  },
  {
   "cell_type": "code",
   "execution_count": 1363,
   "metadata": {},
   "outputs": [
    {
     "data": {
      "text/plain": [
       "<Figure size 720x720 with 0 Axes>"
      ]
     },
     "metadata": {},
     "output_type": "display_data"
    }
   ],
   "source": [
    "plt.figure(figsize=(10, 10))\n",
    "plt.scatter(x=x, s=300, y=y, edgecolors='black', c='#B0C4DE', data=dataset)\n",
    "plt.scatter(x=x, y=y, edgecolors='red', c=iterations[0].index, s=3000, marker='*', data=iterations[0])\n",
    "plt.xlabel(\"Idade dos alunos\", fontsize=18)\n",
    "plt.title(\"Afinidade em Programação I\", fontsize=24)\n",
    "plt.text(-1.5, 1.3, \"1 - Escolhe centros iniciais\", fontsize=16, style='italic',\n",
    "        bbox={'facecolor': 'red', 'alpha': 0.5, 'pad': 10})\n",
    "plt.ylabel(\"Score de Afinidade - Programação I\", fontsize=18)\n",
    "plt.savefig(f\"iter_{0}.png\")\n",
    "plt.figure().clear()\n",
    "plt.close()\n",
    "plt.cla()\n",
    "plt.clf()"
   ]
  },
  {
   "cell_type": "code",
   "execution_count": 1364,
   "metadata": {},
   "outputs": [
    {
     "data": {
      "text/plain": [
       "<Figure size 720x720 with 0 Axes>"
      ]
     },
     "metadata": {},
     "output_type": "display_data"
    }
   ],
   "source": [
    "plt.figure(figsize=(10, 10))\n",
    "plt.scatter(x=x, s=300, y=y, edgecolors='black', c=clusters[0], data=dataset)\n",
    "plt.scatter(x=x, y=y, edgecolors='red', c=iterations[0].index, s=3000, marker='*', data=iterations[0])\n",
    "plt.xlabel(\"Idade dos alunos\", fontsize=18)\n",
    "plt.title(\"Afinidade em Programação I\", fontsize=24)\n",
    "plt.text(-1.5, 1.3, \"2 - Atribui cada obj. ao centro + prox.\", fontsize=16, style='italic',\n",
    "        bbox={'facecolor': 'red', 'alpha': 0.5, 'pad': 10})\n",
    "plt.ylabel(\"Score de Afinidade - Programação I\", fontsize=18)\n",
    "plt.savefig(\"iter_atri.png\")\n",
    "plt.figure().clear()\n",
    "plt.close()\n",
    "plt.cla()\n",
    "plt.clf()"
   ]
  },
  {
   "cell_type": "code",
   "execution_count": 1365,
   "metadata": {},
   "outputs": [
    {
     "data": {
      "text/plain": [
       "<Figure size 720x720 with 0 Axes>"
      ]
     },
     "metadata": {},
     "output_type": "display_data"
    }
   ],
   "source": [
    "plt.figure(figsize=(10, 10))\n",
    "plt.scatter(x=x, s=300, y=y, edgecolors='black', c=clusters[0], data=dataset)\n",
    "plt.scatter(x=x, y=y, edgecolors='red', c=list(set(clusters[0])), s=3000, marker='*', data=iterations[1])\n",
    "plt.xlabel(\"Idade dos alunos\", fontsize=18)\n",
    "plt.title(\"Afinidade em Programação I\", fontsize=24)\n",
    "plt.text(-1.5, 1.3, \"3 - Move cada centro para o meio do grupo\", fontsize=16, style='italic',\n",
    "        bbox={'facecolor': 'red', 'alpha': 0.5, 'pad': 10})\n",
    "plt.ylabel(\"Score de Afinidade - Programação I\", fontsize=18)\n",
    "plt.savefig(\"iter_move.png\")\n",
    "plt.figure().clear()\n",
    "plt.close()\n",
    "plt.cla()\n",
    "plt.clf()"
   ]
  },
  {
   "cell_type": "code",
   "execution_count": 1366,
   "metadata": {},
   "outputs": [
    {
     "data": {
      "text/plain": [
       "<Figure size 720x720 with 0 Axes>"
      ]
     },
     "metadata": {},
     "output_type": "display_data"
    },
    {
     "data": {
      "text/plain": [
       "<Figure size 720x720 with 0 Axes>"
      ]
     },
     "metadata": {},
     "output_type": "display_data"
    },
    {
     "data": {
      "text/plain": [
       "<Figure size 720x720 with 0 Axes>"
      ]
     },
     "metadata": {},
     "output_type": "display_data"
    },
    {
     "data": {
      "text/plain": [
       "<Figure size 720x720 with 0 Axes>"
      ]
     },
     "metadata": {},
     "output_type": "display_data"
    },
    {
     "data": {
      "text/plain": [
       "<Figure size 720x720 with 0 Axes>"
      ]
     },
     "metadata": {},
     "output_type": "display_data"
    }
   ],
   "source": [
    "for _iter in range(1, model[3]):\n",
    "    plt.figure(figsize=(10, 10))\n",
    "    plt.scatter(x=x, s=300, y=y, edgecolors='black', c=clusters[_iter], data=dataset)\n",
    "    plt.scatter(x=x, y=y, edgecolors='red', c=list(set(clusters[_iter])), s=3000, marker='*', data=iterations[_iter])\n",
    "    plt.text(-1.5, 1.3, \"4 - Repete os passos 1,2 e 3\", fontsize=16, style='italic',\n",
    "        bbox={'facecolor': 'red', 'alpha': 0.5, 'pad': 10})\n",
    "    plt.xlabel(\"Idade dos alunos\", fontsize=18)\n",
    "    plt.title(\"Afinidade em Programação I\", fontsize=24)\n",
    "    plt.ylabel(\"Score de Afinidade - Programação I\", fontsize=18)\n",
    "    plt.savefig(f\"iter_{_iter}.png\")\n",
    "    plt.figure().clear()\n",
    "    plt.close()\n",
    "    plt.cla()\n",
    "    plt.clf()"
   ]
  }
 ],
 "metadata": {
  "interpreter": {
   "hash": "31f2aee4e71d21fbe5cf8b01ff0e069b9275f58929596ceb00d14d90e3e16cd6"
  },
  "kernelspec": {
   "display_name": "Python 3.8.9 64-bit",
   "language": "python",
   "name": "python3"
  },
  "language_info": {
   "codemirror_mode": {
    "name": "ipython",
    "version": 3
   },
   "file_extension": ".py",
   "mimetype": "text/x-python",
   "name": "python",
   "nbconvert_exporter": "python",
   "pygments_lexer": "ipython3",
   "version": "3.8.9"
  },
  "orig_nbformat": 4
 },
 "nbformat": 4,
 "nbformat_minor": 2
}
