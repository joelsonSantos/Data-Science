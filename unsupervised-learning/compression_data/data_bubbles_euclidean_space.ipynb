import numpy as np
import pandas as pd
import sys
import math
from scipy.spatial import distance

# read dataset (numerical values) as dataframe pandas
def read_dataset(path, delimiter=','):
    return pd.read_csv(path, sep=delimiter)

def euclidean_distance(point_one, point_two):
    return distance.euclidean(point_one, point_two)

def compute_nearest_neighbors_distance(dataset, sample):
    rows = len(dataset)
    srows = len(sample)
    NN = []
    objects = []
    for point in range(0, rows):
        min_distance = sys.float_info.max
        idx = 0
        for neighbor in range(0, srows):
            if neighbor == point:
                continue
            distance = euclidean_distance(dataset.iloc[point,], sample.iloc[neighbor,])
            if distance < min_distance:
                idx = neighbor
                min_distance = distance
        objects.append(point)
        NN.append(idx)
    return [objects, NN]                    

def NNDist(k, n, d, extent):
    return (((k / n)**(1/d)) * extent)
   
def distance_bubbles(rep, n, extent, nnDist, i, j):
    distance = euclidean_distance(rep.iloc[i,], rep.iloc[j,])
    if (distance - (extent[i] + extent[j])) > 0.0:
        return (distance - (extent[i] + extent[j]) + (nnDist[i] + nnDist[j]))
    else:
        return max(nnDist[i], nnDist[j])
    
def compute_databubbles(file, numberOfBubbles=10, delimiter=','):
    dataset = read_dataset(file, delimiter)
    # select k (numberOfBubbles) sample from dataset.
    idx = np.random.randint(0, len(dataset), size=numberOfBubbles)
    sampleData = dataset.iloc[idx]
    nearest_objects = compute_nearest_neighbors_distance(dataset, sampleData)
    dataset['NN'] = nearest_objects[1]
    rep = dataset.groupby('NN').mean()
    extent = dataset.groupby('NN').std().mean(axis=1)
    n = dataset.groupby('NN').count().iloc[:,0]
    nnDist = NNDist(1, len(sampleData), len(sampleData.columns), extent)
    nnDist = nnDist.fillna(0.0)
    #print("Compute distance (example) between bubble 0 and bubble 3: ", distance_bubbles(rep, n, extent, nnDist, 0, 3))
    return [rep, extent, n, nnDist]
